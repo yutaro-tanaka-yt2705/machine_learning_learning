{
  "nbformat": 4,
  "nbformat_minor": 0,
  "metadata": {
    "colab": {
      "name": "heart_disease.ipynb",
      "provenance": [],
      "authorship_tag": "ABX9TyOnzidUrYQ5YKwPkKhYTNuL",
      "include_colab_link": true
    },
    "kernelspec": {
      "name": "python3",
      "display_name": "Python 3"
    }
  },
  "cells": [
    {
      "cell_type": "markdown",
      "metadata": {
        "id": "view-in-github",
        "colab_type": "text"
      },
      "source": [
        "<a href=\"https://colab.research.google.com/github/yutaro-tanaka-yt2705/machine_learning_learning/blob/main/heart_disease.ipynb\" target=\"_parent\"><img src=\"https://colab.research.google.com/assets/colab-badge.svg\" alt=\"Open In Colab\"/></a>"
      ]
    },
    {
      "cell_type": "code",
      "metadata": {
        "id": "hh8IT51pvTHa"
      },
      "source": [
        "#Import Libraries\n",
        "## Standard\n",
        "import numpy as np \n",
        "import os\n",
        "import pandas as pd\n",
        "## Machine Learning \n",
        "from sklearn.model_selection import train_test_split\n",
        "from sklearn.preprocessing import StandardScaler\n",
        "from sklearn.linear_model import LinearRegression, LogisticRegression\n",
        "from sklearn.pipeline import make_pipeline\n",
        "from sklearn.metrics import accuracy_score\n",
        "from sklearn.metrics import confusion_matrix\n",
        "from sklearn.metrics import mean_absolute_error as mae\n",
        "from sklearn.metrics import mean_squared_error as mse\n",
        "from sklearn.ensemble import RandomForestRegressor\n",
        "from sklearn.svm import SVR\n",
        "## Data Viz\n",
        "import seaborn as sns\n",
        "import matplotlib.pyplot as plt"
      ],
      "execution_count": 55,
      "outputs": []
    },
    {
      "cell_type": "code",
      "metadata": {
        "colab": {
          "base_uri": "https://localhost:8080/"
        },
        "id": "wlRldCHkvj_M",
        "outputId": "fad0a14d-bd43-47a2-874f-4b80e38c38e4"
      },
      "source": [
        "#Import Google Drive and enable Colab access to files.\n",
        "#Copy URL, log into Google account, and copy the authorization code.\n",
        "from google.colab import drive\n",
        "drive.mount('/gdrive/')"
      ],
      "execution_count": null,
      "outputs": [
        {
          "output_type": "stream",
          "text": [
            "Mounted at /gdrive/\n"
          ],
          "name": "stdout"
        }
      ]
    },
    {
      "cell_type": "markdown",
      "metadata": {
        "id": "-byw4_CDyXAJ"
      },
      "source": [
        "Factors Considered are as follows. \n",
        "\n",
        "1. age\n",
        "2. sex (1 = male, 0 = female)\n",
        "3. chest pain type (4 values)\n",
        "4. resting blood pressure (in mmHg)\n",
        "5. serum cholestoral (in mg/dl)\n",
        "6. fasting blood sugar (> 120 mg/dl, 1 = True, 0 = False)\n",
        "7. resting electrocardiographic results (values 0,1,2)\n",
        "8. maximum heart rate achieved \n",
        "9. exercise induced angina (1 = True, 0 = False)\n",
        "10. oldpeak = ST depression induced by exercise relative to rest\n",
        "11. the slope of the peak exercise ST segment\n",
        "12. number of major vessels (0-3) colored by flourosopy\n",
        "13. thal: 3 = normal; 6 = fixed defect; 7 = reversable defect\n",
        "\n",
        "The goal column is in the \"Target\" column. (1 = True, 0 = False)\n"
      ]
    },
    {
      "cell_type": "code",
      "metadata": {
        "colab": {
          "base_uri": "https://localhost:8080/",
          "height": 204
        },
        "id": "670kF8Xavr3K",
        "outputId": "ea04d412-f56e-4e20-cc09-d065fdf37d45"
      },
      "source": [
        "#Read in file. File obtained from Kaggle, and original data from UCI Repository. \n",
        "heart = pd.read_csv('/gdrive/MyDrive/000_Personal_Projects/011_Machine_Learning/002_Heart_Disease/heart.csv')\n",
        "heart.head()"
      ],
      "execution_count": null,
      "outputs": [
        {
          "output_type": "execute_result",
          "data": {
            "text/html": [
              "<div>\n",
              "<style scoped>\n",
              "    .dataframe tbody tr th:only-of-type {\n",
              "        vertical-align: middle;\n",
              "    }\n",
              "\n",
              "    .dataframe tbody tr th {\n",
              "        vertical-align: top;\n",
              "    }\n",
              "\n",
              "    .dataframe thead th {\n",
              "        text-align: right;\n",
              "    }\n",
              "</style>\n",
              "<table border=\"1\" class=\"dataframe\">\n",
              "  <thead>\n",
              "    <tr style=\"text-align: right;\">\n",
              "      <th></th>\n",
              "      <th>age</th>\n",
              "      <th>sex</th>\n",
              "      <th>cp</th>\n",
              "      <th>trestbps</th>\n",
              "      <th>chol</th>\n",
              "      <th>fbs</th>\n",
              "      <th>restecg</th>\n",
              "      <th>thalach</th>\n",
              "      <th>exang</th>\n",
              "      <th>oldpeak</th>\n",
              "      <th>slope</th>\n",
              "      <th>ca</th>\n",
              "      <th>thal</th>\n",
              "      <th>target</th>\n",
              "    </tr>\n",
              "  </thead>\n",
              "  <tbody>\n",
              "    <tr>\n",
              "      <th>0</th>\n",
              "      <td>63</td>\n",
              "      <td>1</td>\n",
              "      <td>3</td>\n",
              "      <td>145</td>\n",
              "      <td>233</td>\n",
              "      <td>1</td>\n",
              "      <td>0</td>\n",
              "      <td>150</td>\n",
              "      <td>0</td>\n",
              "      <td>2.3</td>\n",
              "      <td>0</td>\n",
              "      <td>0</td>\n",
              "      <td>1</td>\n",
              "      <td>1</td>\n",
              "    </tr>\n",
              "    <tr>\n",
              "      <th>1</th>\n",
              "      <td>37</td>\n",
              "      <td>1</td>\n",
              "      <td>2</td>\n",
              "      <td>130</td>\n",
              "      <td>250</td>\n",
              "      <td>0</td>\n",
              "      <td>1</td>\n",
              "      <td>187</td>\n",
              "      <td>0</td>\n",
              "      <td>3.5</td>\n",
              "      <td>0</td>\n",
              "      <td>0</td>\n",
              "      <td>2</td>\n",
              "      <td>1</td>\n",
              "    </tr>\n",
              "    <tr>\n",
              "      <th>2</th>\n",
              "      <td>41</td>\n",
              "      <td>0</td>\n",
              "      <td>1</td>\n",
              "      <td>130</td>\n",
              "      <td>204</td>\n",
              "      <td>0</td>\n",
              "      <td>0</td>\n",
              "      <td>172</td>\n",
              "      <td>0</td>\n",
              "      <td>1.4</td>\n",
              "      <td>2</td>\n",
              "      <td>0</td>\n",
              "      <td>2</td>\n",
              "      <td>1</td>\n",
              "    </tr>\n",
              "    <tr>\n",
              "      <th>3</th>\n",
              "      <td>56</td>\n",
              "      <td>1</td>\n",
              "      <td>1</td>\n",
              "      <td>120</td>\n",
              "      <td>236</td>\n",
              "      <td>0</td>\n",
              "      <td>1</td>\n",
              "      <td>178</td>\n",
              "      <td>0</td>\n",
              "      <td>0.8</td>\n",
              "      <td>2</td>\n",
              "      <td>0</td>\n",
              "      <td>2</td>\n",
              "      <td>1</td>\n",
              "    </tr>\n",
              "    <tr>\n",
              "      <th>4</th>\n",
              "      <td>57</td>\n",
              "      <td>0</td>\n",
              "      <td>0</td>\n",
              "      <td>120</td>\n",
              "      <td>354</td>\n",
              "      <td>0</td>\n",
              "      <td>1</td>\n",
              "      <td>163</td>\n",
              "      <td>1</td>\n",
              "      <td>0.6</td>\n",
              "      <td>2</td>\n",
              "      <td>0</td>\n",
              "      <td>2</td>\n",
              "      <td>1</td>\n",
              "    </tr>\n",
              "  </tbody>\n",
              "</table>\n",
              "</div>"
            ],
            "text/plain": [
              "   age  sex  cp  trestbps  chol  fbs  ...  exang  oldpeak  slope  ca  thal  target\n",
              "0   63    1   3       145   233    1  ...      0      2.3      0   0     1       1\n",
              "1   37    1   2       130   250    0  ...      0      3.5      0   0     2       1\n",
              "2   41    0   1       130   204    0  ...      0      1.4      2   0     2       1\n",
              "3   56    1   1       120   236    0  ...      0      0.8      2   0     2       1\n",
              "4   57    0   0       120   354    0  ...      1      0.6      2   0     2       1\n",
              "\n",
              "[5 rows x 14 columns]"
            ]
          },
          "metadata": {
            "tags": []
          },
          "execution_count": 5
        }
      ]
    },
    {
      "cell_type": "code",
      "metadata": {
        "colab": {
          "base_uri": "https://localhost:8080/"
        },
        "id": "xF4RQyfgv_st",
        "outputId": "546da736-6ff1-4189-862b-866313f45273"
      },
      "source": [
        "#303 patients, 14 factors. \n",
        "heart.shape"
      ],
      "execution_count": null,
      "outputs": [
        {
          "output_type": "execute_result",
          "data": {
            "text/plain": [
              "(303, 14)"
            ]
          },
          "metadata": {
            "tags": []
          },
          "execution_count": 6
        }
      ]
    },
    {
      "cell_type": "code",
      "metadata": {
        "colab": {
          "base_uri": "https://localhost:8080/"
        },
        "id": "Nqbhk4BNwbLQ",
        "outputId": "71991d87-c649-4fb7-9113-4f62f8cbaad0"
      },
      "source": [
        "#Differentiate the Training columns, and the Answer columns. \n",
        "X = heart.drop([\"target\"], axis = 1)\n",
        "Y = heart[\"target\"]\n",
        "print(X.columns)\n",
        "print(Y)"
      ],
      "execution_count": 41,
      "outputs": [
        {
          "output_type": "stream",
          "text": [
            "Index(['age', 'sex', 'cp', 'trestbps', 'chol', 'fbs', 'restecg', 'thalach',\n",
            "       'exang', 'oldpeak', 'slope', 'ca', 'thal'],\n",
            "      dtype='object')\n",
            "0      1\n",
            "1      1\n",
            "2      1\n",
            "3      1\n",
            "4      1\n",
            "      ..\n",
            "298    0\n",
            "299    0\n",
            "300    0\n",
            "301    0\n",
            "302    0\n",
            "Name: target, Length: 303, dtype: int64\n"
          ],
          "name": "stdout"
        }
      ]
    },
    {
      "cell_type": "code",
      "metadata": {
        "colab": {
          "base_uri": "https://localhost:8080/"
        },
        "id": "pmN8OGQfwSt3",
        "outputId": "3ae90774-e360-4f03-b83b-7b139bba7008"
      },
      "source": [
        "#Split the dataset into training and testing data.\n",
        "np.random.seed(seed = 4)\n",
        "X_train, X_test, y_train, y_test = train_test_split(X, Y, test_size=0.20, random_state=4)\n",
        "print(X_train.shape,X_test.shape,y_train.shape,y_test.shape)"
      ],
      "execution_count": 42,
      "outputs": [
        {
          "output_type": "stream",
          "text": [
            "(242, 13) (61, 13) (242,) (61,)\n"
          ],
          "name": "stdout"
        }
      ]
    },
    {
      "cell_type": "markdown",
      "metadata": {
        "id": "w9S0zG7Jwhhc"
      },
      "source": [
        "------\n",
        "## Linear Regression\n"
      ]
    },
    {
      "cell_type": "code",
      "metadata": {
        "colab": {
          "base_uri": "https://localhost:8080/"
        },
        "id": "V-hbO-ITwiSx",
        "outputId": "e4259e42-da90-4173-c722-2068b6b17e06"
      },
      "source": [
        "#Define Linear Regression Model. \n",
        "lin_regr = LinearRegression()\n",
        "lin_regr.fit(X_train, y_train)"
      ],
      "execution_count": 21,
      "outputs": [
        {
          "output_type": "execute_result",
          "data": {
            "text/plain": [
              "LinearRegression(copy_X=True, fit_intercept=True, n_jobs=None, normalize=False)"
            ]
          },
          "metadata": {
            "tags": []
          },
          "execution_count": 21
        }
      ]
    },
    {
      "cell_type": "code",
      "metadata": {
        "colab": {
          "base_uri": "https://localhost:8080/"
        },
        "id": "kOrWAHE4wq0X",
        "outputId": "5a862d0e-4b02-4220-b179-2b02ed36ab86"
      },
      "source": [
        "#This is the variance. 1 means perfect prediction. \n",
        "lin_regr.score(X_test, y_test)"
      ],
      "execution_count": null,
      "outputs": [
        {
          "output_type": "execute_result",
          "data": {
            "text/plain": [
              "0.5732283996028233"
            ]
          },
          "metadata": {
            "tags": []
          },
          "execution_count": 10
        }
      ]
    },
    {
      "cell_type": "code",
      "metadata": {
        "colab": {
          "base_uri": "https://localhost:8080/"
        },
        "id": "ni-500KdwuhT",
        "outputId": "674d0ab7-4a4c-4cca-b4a2-cd9a6162b5f3"
      },
      "source": [
        "#Obtain the Intercept and Coefficient of the model. \n",
        "print('Intercept:', lin_regr.intercept_)\n",
        "print('Coefficients:', lin_regr.coef_)"
      ],
      "execution_count": null,
      "outputs": [
        {
          "output_type": "stream",
          "text": [
            "Intercept: 0.8849906825999314\n",
            "Coefficients: [-8.06179722e-04 -2.03018438e-01  1.10510637e-01 -2.58045705e-03\n",
            " -1.90550318e-04  3.24084004e-02  5.78314626e-02  2.52069678e-03\n",
            " -1.09871320e-01 -7.26383099e-02  9.23184440e-02 -1.00066851e-01\n",
            " -1.05975671e-01]\n"
          ],
          "name": "stdout"
        }
      ]
    },
    {
      "cell_type": "code",
      "metadata": {
        "colab": {
          "base_uri": "https://localhost:8080/"
        },
        "id": "Ygm1mvJBxawA",
        "outputId": "da009490-8b74-4ba4-b7b1-1a7dbcb1ef08"
      },
      "source": [
        "y_pred = lin_regr.predict(X_test)\n",
        "print(y_pred)"
      ],
      "execution_count": 14,
      "outputs": [
        {
          "output_type": "stream",
          "text": [
            "[ 0.65362364  0.13463934  0.56577072  1.09695165  0.72085941  0.45936567\n",
            "  0.30622003  0.90914209  0.64057942  0.74373388  0.66665856  1.01501311\n",
            "  0.70467338  0.38159741  0.74929231 -0.1882605   0.82594281  0.82852703\n",
            "  0.21037853  0.55646895  0.88198342  0.65227051 -0.03092103  0.60149248\n",
            "  0.61652152  0.08933221  0.44972144  1.06957839  0.51872374 -0.09052283\n",
            "  0.35714781  0.51969101  1.12655386  0.7291498   0.63303792  0.97490162\n",
            "  0.88788927  0.66826987  0.53488295 -0.13658203 -0.05859623  0.20306303\n",
            "  0.14872081  0.6817378   0.86447052  0.69006129  0.09870245  0.42495043\n",
            "  0.21156297  0.87877657  0.04555199  0.55308421  0.19766273  0.49410283\n",
            "  0.78480745  1.2758102   0.87577391  0.84698353 -0.31209989  0.09759849\n",
            "  1.04582078]\n"
          ],
          "name": "stdout"
        }
      ]
    },
    {
      "cell_type": "code",
      "metadata": {
        "id": "ryypalaaajbb",
        "colab": {
          "base_uri": "https://localhost:8080/"
        },
        "outputId": "91865c0a-4a0e-4d81-95d4-7a273759a8f4"
      },
      "source": [
        "#Obtain the MAE, MSE, RMSE scores of the model.\n",
        "print(mae(y_test, y_pred))\n",
        "print(mse(y_test, y_pred))\n",
        "print(np.sqrt(mse(y_test, y_pred)))"
      ],
      "execution_count": 16,
      "outputs": [
        {
          "output_type": "stream",
          "text": [
            "0.2672822038697817\n",
            "0.10322344540646572\n",
            "0.3212840571931102\n"
          ],
          "name": "stdout"
        }
      ]
    },
    {
      "cell_type": "code",
      "metadata": {
        "colab": {
          "base_uri": "https://localhost:8080/",
          "height": 303
        },
        "id": "4cxeEIAu1JAZ",
        "outputId": "95586f51-9eeb-4e4d-bdfc-dacd941cb16d"
      },
      "source": [
        "#Plot for residual error \n",
        "  \n",
        "## setting plot style \n",
        "plt.style.use('fivethirtyeight') \n",
        "  \n",
        "## plotting residual errors in training data \n",
        "plt.scatter(lin_regr.predict(X_train), lin_regr.predict(X_train) - y_train, \n",
        "            color = \"green\", s = 10, label = 'Train data') \n",
        "  \n",
        "## plotting residual errors in test data \n",
        "plt.scatter(lin_regr.predict(X_test), lin_regr.predict(X_test) - y_test, \n",
        "            color = \"blue\", s = 10, label = 'Test data') \n",
        "  \n",
        "## plotting legend \n",
        "plt.legend(loc = 'upper right') \n",
        "  \n",
        "## plot title \n",
        "plt.title(\"Residual Errors\") \n",
        "  \n",
        "## function to show plot \n",
        "plt.show() "
      ],
      "execution_count": null,
      "outputs": [
        {
          "output_type": "display_data",
          "data": {
            "image/png": "[encoded data removed]",
            "text/plain": [
              "<Figure size 432x288 with 1 Axes>"
            ]
          },
          "metadata": {
            "tags": []
          }
        }
      ]
    },
    {
      "cell_type": "markdown",
      "metadata": {
        "id": "WOwwteQyxgnE"
      },
      "source": [
        "--------\n",
        "## Logistic Regression"
      ]
    },
    {
      "cell_type": "code",
      "metadata": {
        "colab": {
          "base_uri": "https://localhost:8080/"
        },
        "id": "LrgQbzggxhiA",
        "outputId": "43989ece-eb7d-4137-e47b-849380ace915"
      },
      "source": [
        "# Try preprocessing the data\n",
        "preprocessed = make_pipeline(StandardScaler(), LogisticRegression())\n",
        "preprocessed.fit(X_train, y_train)\n",
        "preprocessed.score(X_test, y_test)"
      ],
      "execution_count": 43,
      "outputs": [
        {
          "output_type": "execute_result",
          "data": {
            "text/plain": [
              "0.8688524590163934"
            ]
          },
          "metadata": {
            "tags": []
          },
          "execution_count": 43
        }
      ]
    },
    {
      "cell_type": "code",
      "metadata": {
        "colab": {
          "base_uri": "https://localhost:8080/"
        },
        "id": "jKvQbpqmfDKu",
        "outputId": "490ce2e6-605f-4d00-a70f-8ecffe27488f"
      },
      "source": [
        "#Set Logistic Regression Model. \n",
        "log_regr = LogisticRegression(max_iter=1000)\n",
        "log_regr.fit(X_train, y_train)"
      ],
      "execution_count": 44,
      "outputs": [
        {
          "output_type": "execute_result",
          "data": {
            "text/plain": [
              "LogisticRegression(C=1.0, class_weight=None, dual=False, fit_intercept=True,\n",
              "                   intercept_scaling=1, l1_ratio=None, max_iter=1000,\n",
              "                   multi_class='auto', n_jobs=None, penalty='l2',\n",
              "                   random_state=None, solver='lbfgs', tol=0.0001, verbose=0,\n",
              "                   warm_start=False)"
            ]
          },
          "metadata": {
            "tags": []
          },
          "execution_count": 44
        }
      ]
    },
    {
      "cell_type": "code",
      "metadata": {
        "colab": {
          "base_uri": "https://localhost:8080/"
        },
        "id": "oDLLel8UxlWk",
        "outputId": "06e0a833-7a85-4e9b-cd77-f4e2417d22fe"
      },
      "source": [
        "#The mean accuracy of the given data. \n",
        "log_regr.score(X_test, y_test)"
      ],
      "execution_count": 45,
      "outputs": [
        {
          "output_type": "execute_result",
          "data": {
            "text/plain": [
              "0.9344262295081968"
            ]
          },
          "metadata": {
            "tags": []
          },
          "execution_count": 45
        }
      ]
    },
    {
      "cell_type": "code",
      "metadata": {
        "colab": {
          "base_uri": "https://localhost:8080/"
        },
        "id": "t5FSHOLmxq5E",
        "outputId": "33c834f6-042d-4eec-9e3c-804f5874607f"
      },
      "source": [
        "print('Intercept:', log_regr.intercept_)\n",
        "print('Coefficients:', log_regr.coef_)"
      ],
      "execution_count": 32,
      "outputs": [
        {
          "output_type": "stream",
          "text": [
            "Intercept: [3.08549427]\n",
            "Coefficients: [[-0.00430894 -1.3447673   0.76647285 -0.02058626 -0.00237708  0.12357702\n",
            "   0.45360095  0.01787072 -0.66398049 -0.61785122  0.54849734 -0.70030345\n",
            "  -0.71506842]]\n"
          ],
          "name": "stdout"
        }
      ]
    },
    {
      "cell_type": "code",
      "metadata": {
        "colab": {
          "base_uri": "https://localhost:8080/"
        },
        "id": "MN6ytx_dxuE5",
        "outputId": "f5e58fcc-0456-4fe5-8b70-b6ddf845d197"
      },
      "source": [
        "y_preds = log_regr.predict(X_test)\n",
        "print(y_preds)"
      ],
      "execution_count": null,
      "outputs": [
        {
          "output_type": "stream",
          "text": [
            "[1 0 1 1 1 0 0 1 1 1 1 1 1 0 1 0 1 1 0 1 1 1 0 1 1 0 0 1 1 0 0 1 1 1 1 1 1\n",
            " 1 0 0 0 0 0 1 1 1 0 0 0 1 0 1 0 1 1 1 1 1 0 0 1]\n"
          ],
          "name": "stdout"
        }
      ]
    },
    {
      "cell_type": "code",
      "metadata": {
        "colab": {
          "base_uri": "https://localhost:8080/"
        },
        "id": "71Cj3sBsc_O0",
        "outputId": "a833b8c0-111d-430b-93e8-5332317efd14"
      },
      "source": [
        "#Obtain the MAE, MSE, RMSE scores of the model.\n",
        "print(mae(y_test, y_pred))\n",
        "print(mse(y_test, y_pred))\n",
        "print(np.sqrt(mse(y_test, y_pred)))"
      ],
      "execution_count": 17,
      "outputs": [
        {
          "output_type": "stream",
          "text": [
            "0.2672822038697817\n",
            "0.10322344540646572\n",
            "0.3212840571931102\n"
          ],
          "name": "stdout"
        }
      ]
    },
    {
      "cell_type": "code",
      "metadata": {
        "colab": {
          "base_uri": "https://localhost:8080/"
        },
        "id": "ewHYrv0lxzQk",
        "outputId": "4ffd7563-38c9-44cf-f2eb-152bda396d0e"
      },
      "source": [
        "cf_matrix = confusion_matrix(y_test, y_preds)\n",
        "print(cf_matrix)"
      ],
      "execution_count": null,
      "outputs": [
        {
          "output_type": "stream",
          "text": [
            "[[22  3]\n",
            " [ 1 35]]\n"
          ],
          "name": "stdout"
        }
      ]
    },
    {
      "cell_type": "code",
      "metadata": {
        "colab": {
          "base_uri": "https://localhost:8080/",
          "height": 286
        },
        "id": "W5Tj5eDJx3NZ",
        "outputId": "38193b16-ff55-461e-ac75-2b3e911a163a"
      },
      "source": [
        "group_names = [\"True Neg\", \"False Pos\", \"False Neg\", \"True Pos\"]\n",
        "\n",
        "group_counts = [\"{0:0.0f}\".format(value) for value in cf_matrix.flatten()]\n",
        "group_percentages = [\"{0:.2%}\".format(value) for value in cf_matrix.flatten()/np.sum(cf_matrix)]\n",
        "labels = [f\"{v1}\\n{v2}\\n{v3}\" for v1, v2, v3 in zip(group_names,group_counts,group_percentages)]\n",
        "labels = np.asarray(labels).reshape(2,2)\n",
        "sns.heatmap(cf_matrix, annot=labels, fmt='', cmap='Blues')"
      ],
      "execution_count": null,
      "outputs": [
        {
          "output_type": "execute_result",
          "data": {
            "text/plain": [
              "<matplotlib.axes._subplots.AxesSubplot at 0x7fd3c27bd240>"
            ]
          },
          "metadata": {
            "tags": []
          },
          "execution_count": 22
        },
        {
          "output_type": "display_data",
          "data": {
            "image/png": "[encoded data removed]",
            "text/plain": [
              "<Figure size 432x288 with 2 Axes>"
            ]
          },
          "metadata": {
            "tags": [],
            "needs_background": "light"
          }
        }
      ]
    },
    {
      "cell_type": "code",
      "metadata": {
        "colab": {
          "base_uri": "https://localhost:8080/"
        },
        "id": "qiqXrqPEx92w",
        "outputId": "4e66b55b-c9f7-4dd3-ada8-14fa97e0b4b4"
      },
      "source": [
        "accuracy_score(y_test, y_preds)"
      ],
      "execution_count": null,
      "outputs": [
        {
          "output_type": "execute_result",
          "data": {
            "text/plain": [
              "0.9344262295081968"
            ]
          },
          "metadata": {
            "tags": []
          },
          "execution_count": 23
        }
      ]
    },
    {
      "cell_type": "markdown",
      "metadata": {
        "id": "HDIgv-UihUjD"
      },
      "source": [
        "------\n",
        "## Random Forest Regressor"
      ]
    },
    {
      "cell_type": "code",
      "metadata": {
        "colab": {
          "base_uri": "https://localhost:8080/"
        },
        "id": "mpDKHLz7jZSi",
        "outputId": "765a00f8-7398-4e5f-f2f1-dd3c02647ecb"
      },
      "source": [
        "regressor = RandomForestRegressor(n_estimators = 10, random_state = 0)\n",
        "regressor.fit(X, Y)"
      ],
      "execution_count": 50,
      "outputs": [
        {
          "output_type": "execute_result",
          "data": {
            "text/plain": [
              "RandomForestRegressor(bootstrap=True, ccp_alpha=0.0, criterion='mse',\n",
              "                      max_depth=None, max_features='auto', max_leaf_nodes=None,\n",
              "                      max_samples=None, min_impurity_decrease=0.0,\n",
              "                      min_impurity_split=None, min_samples_leaf=1,\n",
              "                      min_samples_split=2, min_weight_fraction_leaf=0.0,\n",
              "                      n_estimators=10, n_jobs=None, oob_score=False,\n",
              "                      random_state=0, verbose=0, warm_start=False)"
            ]
          },
          "metadata": {
            "tags": []
          },
          "execution_count": 50
        }
      ]
    },
    {
      "cell_type": "code",
      "metadata": {
        "colab": {
          "base_uri": "https://localhost:8080/",
          "height": 486
        },
        "id": "SAmlgtMxkQ9t",
        "outputId": "a36002c1-678f-477f-941d-652326897c5e"
      },
      "source": [
        "plt.plot(X, regressor.predict(X))"
      ],
      "execution_count": 53,
      "outputs": [
        {
          "output_type": "execute_result",
          "data": {
            "text/plain": [
              "[<matplotlib.lines.Line2D at 0x7fb995670c18>,\n",
              " <matplotlib.lines.Line2D at 0x7fb995670d30>,\n",
              " <matplotlib.lines.Line2D at 0x7fb995670e80>,\n",
              " <matplotlib.lines.Line2D at 0x7fb995670fd0>,\n",
              " <matplotlib.lines.Line2D at 0x7fb9951c9160>,\n",
              " <matplotlib.lines.Line2D at 0x7fb9951c92b0>,\n",
              " <matplotlib.lines.Line2D at 0x7fb9951c9400>,\n",
              " <matplotlib.lines.Line2D at 0x7fb9951c9550>,\n",
              " <matplotlib.lines.Line2D at 0x7fb9951c96a0>,\n",
              " <matplotlib.lines.Line2D at 0x7fb9951c97f0>,\n",
              " <matplotlib.lines.Line2D at 0x7fb99564f9b0>,\n",
              " <matplotlib.lines.Line2D at 0x7fb9951c9a58>,\n",
              " <matplotlib.lines.Line2D at 0x7fb9951c9ba8>]"
            ]
          },
          "metadata": {
            "tags": []
          },
          "execution_count": 53
        },
        {
          "output_type": "display_data",
          "data": {
            "image/png": "[encoded data removed]",
            "text/plain": [
              "<Figure size 432x288 with 1 Axes>"
            ]
          },
          "metadata": {
            "tags": [],
            "needs_background": "light"
          }
        }
      ]
    },
    {
      "cell_type": "markdown",
      "metadata": {
        "id": "O77coSlblEqq"
      },
      "source": [
        "-------\n",
        "## SVM Regression"
      ]
    },
    {
      "cell_type": "code",
      "metadata": {
        "id": "OlRYmo05mahw"
      },
      "source": [
        "svr_rbf = SVR(kernel='rbf', C=1e3, gamma=0.1)\n",
        "svr_lin = SVR(kernel='linear', C=1e3)\n",
        "svr_poly = SVR(kernel='poly', C=1e3, degree=3)\n",
        "y_rbf = svr_rbf.fit(X, Y).predict(X)\n",
        "y_lin = svr_lin.fit(X, Y).predict(X)\n",
        "y_poly = svr_poly.fit(X, Y).predict(X)"
      ],
      "execution_count": null,
      "outputs": []
    },
    {
      "cell_type": "code",
      "metadata": {
        "id": "xV9UVzepm5j-"
      },
      "source": [
        "test_rbf = svr_rbf.predict(test_X)\n",
        "test_lin = svr_lin.predict(test_X)\n",
        "test_poly = svr_poly.predict(test_X)"
      ],
      "execution_count": null,
      "outputs": []
    }
  ]
}